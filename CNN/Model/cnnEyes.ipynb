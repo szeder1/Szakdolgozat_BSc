{
 "cells": [
  {
   "cell_type": "code",
   "execution_count": 1,
   "metadata": {},
   "outputs": [],
   "source": [
    "import os\n",
    "import random\n",
    "import numpy as np\n",
    "import pandas as pd\n",
    "import matplotlib.pyplot as plt\n",
    "from pathlib import Path\n",
    "from PIL import Image\n",
    "import torch\n",
    "import torch.nn as nn\n",
    "import torch.nn.functional as F\n",
    "from torch.utils.data import Dataset, DataLoader, random_split\n",
    "from sklearn.model_selection import train_test_split\n",
    "from torchvision import transforms\n",
    "from torchvision.transforms import RandomApply\n",
    "from sklearn.metrics import accuracy_score, f1_score, precision_score, recall_score, classification_report\n",
    "import torch.optim as optim\n",
    "from tqdm import tqdm\n",
    "\n",
    "import warnings\n",
    "warnings.filterwarnings('ignore')\n",
    "\n",
    "device = torch.device(\"cuda\" if torch.cuda.is_available() else \"cpu\")"
   ]
  },
  {
   "cell_type": "code",
   "execution_count": 2,
   "metadata": {},
   "outputs": [],
   "source": [
    "seed = 42\n",
    "random.seed(seed)\n",
    "np.random.seed(seed)\n",
    "torch.manual_seed(seed)\n",
    "if torch.cuda.is_available():\n",
    "    torch.cuda.manual_seed_all(seed)"
   ]
  },
  {
   "cell_type": "markdown",
   "metadata": {},
   "source": [
    "Betöltés"
   ]
  },
  {
   "cell_type": "code",
   "execution_count": 3,
   "metadata": {},
   "outputs": [
    {
     "name": "stdout",
     "output_type": "stream",
     "text": [
      "Összes kép: 81675\n"
     ]
    }
   ],
   "source": [
    "data_dir = Path(\"../train\")\n",
    "subfolders = [\"close_eyes\", \"open_eyes\"]\n",
    "\n",
    "files = []\n",
    "for label in subfolders:\n",
    "    folder = data_dir / label\n",
    "    if not folder.exists():\n",
    "        print(f\"Mappa nem található: {folder}\")\n",
    "        continue\n",
    "    for file in folder.iterdir():\n",
    "        if file.suffix.lower() in ['.jpg', '.jpeg', '.png']:\n",
    "            files.append((str(file.resolve()), label))\n",
    "\n",
    "#random.shuffle(files)\n",
    "\n",
    "df = pd.DataFrame(files, columns=[\"filepath\", \"label\"])\n",
    "\n",
    "print(\"Összes kép:\", len(df))"
   ]
  },
  {
   "cell_type": "markdown",
   "metadata": {},
   "source": [
    "Előkészítés"
   ]
  },
  {
   "cell_type": "code",
   "execution_count": 4,
   "metadata": {},
   "outputs": [],
   "source": [
    "transform_train = transforms.Compose([\n",
    "    transforms.Grayscale(num_output_channels=1),\n",
    "    transforms.Resize((224, 224)),\n",
    "    transforms.ToTensor(),\n",
    "    transforms.Normalize([0.5], [0.5]),\n",
    "    transforms.RandomHorizontalFlip(p=0.5)\n",
    "    #transforms.RandomApply([transforms.RandomRotation(10)], p=0.5),\n",
    "    #transforms.ColorJitter(contrast=0.3, brightness=0.2)\n",
    "])\n",
    "\n",
    "transform_val = transforms.Compose([\n",
    "    transforms.Grayscale(num_output_channels=1),\n",
    "    transforms.Resize((224, 224)),\n",
    "    transforms.ToTensor(),\n",
    "    transforms.Normalize([0.5], [0.5])\n",
    "])"
   ]
  },
  {
   "cell_type": "code",
   "execution_count": 5,
   "metadata": {},
   "outputs": [],
   "source": [
    "class EyesDataset(Dataset):\n",
    "    def __init__(self, df, transform=None):\n",
    "        self.df = df.reset_index(drop=True)\n",
    "        self.transform = transform\n",
    "        self.label_map = {\"close_eyes\": 0, \"open_eyes\": 1}\n",
    "    \n",
    "    def __len__(self):\n",
    "        return len(self.df)\n",
    "    \n",
    "    def __getitem__(self, idx):\n",
    "        row = self.df.iloc[idx]\n",
    "        img = Image.open(row[\"filepath\"]).convert(\"L\")\n",
    "        if self.transform:\n",
    "            img = self.transform(img)\n",
    "        label = self.label_map[row[\"label\"]]\n",
    "        return img, label"
   ]
  },
  {
   "cell_type": "code",
   "execution_count": 6,
   "metadata": {},
   "outputs": [
    {
     "name": "stdout",
     "output_type": "stream",
     "text": [
      "Train: 65340, Validation: 16335\n"
     ]
    }
   ],
   "source": [
    "BATCH = 32\n",
    "\n",
    "train_df, val_df = train_test_split(df, test_size=0.2, random_state=42, stratify=df[\"label\"])\n",
    "\n",
    "train_dataset = EyesDataset(train_df, transform=transform_train)\n",
    "val_dataset = EyesDataset(val_df, transform=transform_val)\n",
    "\n",
    "train_loader = DataLoader(train_dataset, batch_size=BATCH, shuffle=True, num_workers=0, pin_memory=True)\n",
    "val_loader = DataLoader(val_dataset, batch_size=BATCH, shuffle=False, num_workers=0, pin_memory=True)\n",
    "\n",
    "print(f\"Train: {len(train_dataset)}, Validation: {len(val_dataset)}\")"
   ]
  },
  {
   "cell_type": "markdown",
   "metadata": {},
   "source": [
    "Model"
   ]
  },
  {
   "cell_type": "code",
   "execution_count": 7,
   "metadata": {},
   "outputs": [],
   "source": [
    "class EyeCNN(nn.Module):\n",
    "    def __init__(self):\n",
    "        super(EyeCNN, self).__init__()\n",
    "        self.conv1 = nn.Conv2d(1, 32, kernel_size=3, stride=1, padding=1)\n",
    "        self.conv2 = nn.Conv2d(32, 64, kernel_size=3, stride=1, padding=1)\n",
    "        self.conv3 = nn.Conv2d(64, 128, kernel_size=3, stride=1, padding=1)\n",
    "        self.pool = nn.MaxPool2d(2, 2)\n",
    "        self.fc1 = nn.Linear(128 * 28 * 28, 128)\n",
    "        self.dropout = nn.Dropout(0.5)\n",
    "        self.fc2 = nn.Linear(128, 1)\n",
    "\n",
    "    def forward(self, x):\n",
    "        x = self.pool(F.relu(self.conv1(x)))\n",
    "        x = self.pool(F.relu(self.conv2(x)))\n",
    "        x = self.pool(F.relu(self.conv3(x)))\n",
    "        x = torch.flatten(x, start_dim=1)\n",
    "        x = F.relu(self.fc1(x))\n",
    "        x = self.dropout(x)\n",
    "        x = self.fc2(x)\n",
    "        return x\n",
    "model = EyeCNN().to(device)"
   ]
  },
  {
   "cell_type": "code",
   "execution_count": 8,
   "metadata": {},
   "outputs": [],
   "source": [
    "criterion = nn.BCEWithLogitsLoss()\n",
    "\n",
    "optimizer = optim.Adam(model.parameters(), \n",
    "                       lr=0.00005, \n",
    "                       weight_decay=1e-4)\n",
    "\n",
    "scheduler = optim.lr_scheduler.ReduceLROnPlateau(optimizer, \n",
    "                                                 mode='min', \n",
    "                                                 factor=0.5, \n",
    "                                                 patience=3, \n",
    "                                                 verbose=True)"
   ]
  },
  {
   "cell_type": "code",
   "execution_count": 9,
   "metadata": {},
   "outputs": [
    {
     "name": "stderr",
     "output_type": "stream",
     "text": [
      "Training Epoch 1/20:   0%|          | 0/2042 [00:00<?, ?it/s]"
     ]
    },
    {
     "name": "stderr",
     "output_type": "stream",
     "text": [
      "Training Epoch 1/20: 100%|██████████| 2042/2042 [13:34<00:00,  2.51it/s]\n"
     ]
    },
    {
     "name": "stdout",
     "output_type": "stream",
     "text": [
      "Epoch 1: Loss: 0.2362, Training Accuracy: 0.9086\n",
      "Validation: Loss: 0.1496, Accuracy: 0.9466\n"
     ]
    },
    {
     "name": "stderr",
     "output_type": "stream",
     "text": [
      "Training Epoch 2/20: 100%|██████████| 2042/2042 [01:08<00:00, 29.78it/s]\n"
     ]
    },
    {
     "name": "stdout",
     "output_type": "stream",
     "text": [
      "Epoch 2: Loss: 0.1534, Training Accuracy: 0.9453\n",
      "Validation: Loss: 0.1571, Accuracy: 0.9399\n"
     ]
    },
    {
     "name": "stderr",
     "output_type": "stream",
     "text": [
      "Training Epoch 3/20: 100%|██████████| 2042/2042 [01:08<00:00, 29.80it/s]\n"
     ]
    },
    {
     "name": "stdout",
     "output_type": "stream",
     "text": [
      "Epoch 3: Loss: 0.1330, Training Accuracy: 0.9525\n",
      "Validation: Loss: 0.1171, Accuracy: 0.9562\n"
     ]
    },
    {
     "name": "stderr",
     "output_type": "stream",
     "text": [
      "Training Epoch 4/20: 100%|██████████| 2042/2042 [01:08<00:00, 29.76it/s]\n"
     ]
    },
    {
     "name": "stdout",
     "output_type": "stream",
     "text": [
      "Epoch 4: Loss: 0.1197, Training Accuracy: 0.9577\n",
      "Validation: Loss: 0.0964, Accuracy: 0.9662\n"
     ]
    },
    {
     "name": "stderr",
     "output_type": "stream",
     "text": [
      "Training Epoch 5/20: 100%|██████████| 2042/2042 [01:08<00:00, 29.75it/s]\n"
     ]
    },
    {
     "name": "stdout",
     "output_type": "stream",
     "text": [
      "Epoch 5: Loss: 0.1105, Training Accuracy: 0.9607\n",
      "Validation: Loss: 0.0910, Accuracy: 0.9676\n"
     ]
    },
    {
     "name": "stderr",
     "output_type": "stream",
     "text": [
      "Training Epoch 6/20: 100%|██████████| 2042/2042 [01:08<00:00, 29.73it/s]\n"
     ]
    },
    {
     "name": "stdout",
     "output_type": "stream",
     "text": [
      "Epoch 6: Loss: 0.1006, Training Accuracy: 0.9645\n",
      "Validation: Loss: 0.0888, Accuracy: 0.9680\n"
     ]
    },
    {
     "name": "stderr",
     "output_type": "stream",
     "text": [
      "Training Epoch 7/20: 100%|██████████| 2042/2042 [01:09<00:00, 29.48it/s]\n"
     ]
    },
    {
     "name": "stdout",
     "output_type": "stream",
     "text": [
      "Epoch 7: Loss: 0.0945, Training Accuracy: 0.9665\n",
      "Validation: Loss: 0.0758, Accuracy: 0.9725\n"
     ]
    },
    {
     "name": "stderr",
     "output_type": "stream",
     "text": [
      "Training Epoch 8/20: 100%|██████████| 2042/2042 [01:09<00:00, 29.39it/s]\n"
     ]
    },
    {
     "name": "stdout",
     "output_type": "stream",
     "text": [
      "Epoch 8: Loss: 0.0893, Training Accuracy: 0.9689\n",
      "Validation: Loss: 0.0770, Accuracy: 0.9721\n"
     ]
    },
    {
     "name": "stderr",
     "output_type": "stream",
     "text": [
      "Training Epoch 9/20: 100%|██████████| 2042/2042 [01:09<00:00, 29.56it/s]\n"
     ]
    },
    {
     "name": "stdout",
     "output_type": "stream",
     "text": [
      "Epoch 9: Loss: 0.0839, Training Accuracy: 0.9708\n",
      "Validation: Loss: 0.0763, Accuracy: 0.9718\n"
     ]
    },
    {
     "name": "stderr",
     "output_type": "stream",
     "text": [
      "Training Epoch 10/20: 100%|██████████| 2042/2042 [01:09<00:00, 29.58it/s]\n"
     ]
    },
    {
     "name": "stdout",
     "output_type": "stream",
     "text": [
      "Epoch 10: Loss: 0.0795, Training Accuracy: 0.9722\n",
      "Validation: Loss: 0.0650, Accuracy: 0.9754\n"
     ]
    },
    {
     "name": "stderr",
     "output_type": "stream",
     "text": [
      "Training Epoch 11/20: 100%|██████████| 2042/2042 [01:09<00:00, 29.43it/s]\n"
     ]
    },
    {
     "name": "stdout",
     "output_type": "stream",
     "text": [
      "Epoch 11: Loss: 0.0724, Training Accuracy: 0.9746\n",
      "Validation: Loss: 0.0598, Accuracy: 0.9783\n"
     ]
    },
    {
     "name": "stderr",
     "output_type": "stream",
     "text": [
      "Training Epoch 12/20: 100%|██████████| 2042/2042 [01:08<00:00, 29.65it/s]\n"
     ]
    },
    {
     "name": "stdout",
     "output_type": "stream",
     "text": [
      "Epoch 12: Loss: 0.0687, Training Accuracy: 0.9761\n",
      "Validation: Loss: 0.0575, Accuracy: 0.9800\n"
     ]
    },
    {
     "name": "stderr",
     "output_type": "stream",
     "text": [
      "Training Epoch 13/20: 100%|██████████| 2042/2042 [01:08<00:00, 29.69it/s]\n"
     ]
    },
    {
     "name": "stdout",
     "output_type": "stream",
     "text": [
      "Epoch 13: Loss: 0.0659, Training Accuracy: 0.9766\n",
      "Validation: Loss: 0.0600, Accuracy: 0.9798\n"
     ]
    },
    {
     "name": "stderr",
     "output_type": "stream",
     "text": [
      "Training Epoch 14/20: 100%|██████████| 2042/2042 [01:09<00:00, 29.57it/s]\n"
     ]
    },
    {
     "name": "stdout",
     "output_type": "stream",
     "text": [
      "Epoch 14: Loss: 0.0618, Training Accuracy: 0.9778\n",
      "Validation: Loss: 0.0517, Accuracy: 0.9826\n"
     ]
    },
    {
     "name": "stderr",
     "output_type": "stream",
     "text": [
      "Training Epoch 15/20: 100%|██████████| 2042/2042 [01:08<00:00, 29.69it/s]\n"
     ]
    },
    {
     "name": "stdout",
     "output_type": "stream",
     "text": [
      "Epoch 15: Loss: 0.0587, Training Accuracy: 0.9793\n",
      "Validation: Loss: 0.0486, Accuracy: 0.9825\n"
     ]
    },
    {
     "name": "stderr",
     "output_type": "stream",
     "text": [
      "Training Epoch 16/20: 100%|██████████| 2042/2042 [01:10<00:00, 29.08it/s]\n"
     ]
    },
    {
     "name": "stdout",
     "output_type": "stream",
     "text": [
      "Epoch 16: Loss: 0.0559, Training Accuracy: 0.9800\n",
      "Validation: Loss: 0.0469, Accuracy: 0.9840\n"
     ]
    },
    {
     "name": "stderr",
     "output_type": "stream",
     "text": [
      "Training Epoch 17/20: 100%|██████████| 2042/2042 [01:09<00:00, 29.58it/s]\n"
     ]
    },
    {
     "name": "stdout",
     "output_type": "stream",
     "text": [
      "Epoch 17: Loss: 0.0540, Training Accuracy: 0.9810\n",
      "Validation: Loss: 0.0503, Accuracy: 0.9832\n"
     ]
    },
    {
     "name": "stderr",
     "output_type": "stream",
     "text": [
      "Training Epoch 18/20: 100%|██████████| 2042/2042 [01:09<00:00, 29.53it/s]\n"
     ]
    },
    {
     "name": "stdout",
     "output_type": "stream",
     "text": [
      "Epoch 18: Loss: 0.0529, Training Accuracy: 0.9816\n",
      "Validation: Loss: 0.0552, Accuracy: 0.9796\n"
     ]
    },
    {
     "name": "stderr",
     "output_type": "stream",
     "text": [
      "Training Epoch 19/20: 100%|██████████| 2042/2042 [01:09<00:00, 29.43it/s]\n"
     ]
    },
    {
     "name": "stdout",
     "output_type": "stream",
     "text": [
      "Epoch 19: Loss: 0.0500, Training Accuracy: 0.9826\n",
      "Validation: Loss: 0.0489, Accuracy: 0.9822\n"
     ]
    },
    {
     "name": "stderr",
     "output_type": "stream",
     "text": [
      "Training Epoch 20/20: 100%|██████████| 2042/2042 [01:09<00:00, 29.50it/s]\n"
     ]
    },
    {
     "name": "stdout",
     "output_type": "stream",
     "text": [
      "Epoch 20: Loss: 0.0495, Training Accuracy: 0.9826\n",
      "Validation: Loss: 0.0470, Accuracy: 0.9837\n"
     ]
    }
   ],
   "source": [
    "num_epochs = 20\n",
    "\n",
    "train_losses, train_accuracies = [], []\n",
    "val_losses, val_accuracies = [], []\n",
    "\n",
    "for epoch in range(num_epochs):\n",
    "\n",
    "    model.train()\n",
    "\n",
    "    running_loss = 0.0\n",
    "    train_preds, train_labels = [], []\n",
    "\n",
    "    for imgs, labels in tqdm(train_loader, desc=f\"Training Epoch {epoch+1}/{num_epochs}\"):\n",
    "\n",
    "        imgs = imgs.to(device)\n",
    "        labels = labels.to(device).float().view(-1, 1)\n",
    "\n",
    "        optimizer.zero_grad()\n",
    "        outputs = model(imgs)\n",
    "        loss = criterion(outputs, labels)\n",
    "        loss.backward()\n",
    "        optimizer.step() # paraméterek frissítése\n",
    "\n",
    "        running_loss += loss.item()\n",
    "        preds = (torch.sigmoid(outputs) > 0.5).float()\n",
    "        train_preds.extend(preds.cpu().numpy().flatten().tolist())\n",
    "        train_labels.extend(labels.cpu().numpy().flatten().tolist())\n",
    "\n",
    "    avg_loss = running_loss / len(train_loader)\n",
    "    train_losses.append(avg_loss)\n",
    "    acc = accuracy_score(train_labels, train_preds)\n",
    "    train_accuracies.append(acc)\n",
    "    print(f\"Epoch {epoch+1}: Loss: {avg_loss:.4f}, Training Accuracy: {acc:.4f}\")\n",
    "    \n",
    "\n",
    "    # Validáció\n",
    "    model.eval()\n",
    "    running_val_loss = 0.0\n",
    "    val_preds, val_labels = [], []\n",
    "\n",
    "    with torch.no_grad():\n",
    "        for imgs, labels in val_loader:\n",
    "            imgs = imgs.to(device)\n",
    "            labels = labels.to(device).float().view(-1, 1)\n",
    "            outputs = model(imgs)\n",
    "            loss = criterion(outputs, labels)\n",
    "            running_val_loss += loss.item()\n",
    "            preds = (torch.sigmoid(outputs) > 0.5).float()\n",
    "            val_preds.extend(preds.cpu().numpy().flatten().tolist())\n",
    "            val_labels.extend(labels.cpu().numpy().flatten().tolist())\n",
    "\n",
    "    avg_val_loss = running_val_loss / len(val_loader)\n",
    "    val_losses.append(avg_val_loss)\n",
    "    val_acc = accuracy_score(val_labels, val_preds)\n",
    "    val_accuracies.append(val_acc)\n",
    "    print(f\"Validation: Loss: {avg_val_loss:.4f}, Accuracy: {val_acc:.4f}\")\n",
    "\n",
    "    scheduler.step(avg_val_loss) # tanulási ráta frissítése"
   ]
  },
  {
   "cell_type": "code",
   "execution_count": 10,
   "metadata": {},
   "outputs": [
    {
     "name": "stdout",
     "output_type": "stream",
     "text": [
      "Precision: 0.9865\n",
      "Recall: 0.9812\n",
      "F1-score: 0.9839\n"
     ]
    }
   ],
   "source": [
    "val_precision = precision_score(val_labels, val_preds, zero_division=0)\n",
    "val_recall = recall_score(val_labels, val_preds, zero_division=0)\n",
    "val_f1 = f1_score(val_labels, val_preds, zero_division=0)\n",
    "\n",
    "print(f\"Precision: {val_precision:.4f}\")\n",
    "print(f\"Recall: {val_recall:.4f}\")\n",
    "print(f\"F1-score: {val_f1:.4f}\")"
   ]
  },
  {
   "cell_type": "code",
   "execution_count": 18,
   "metadata": {},
   "outputs": [
    {
     "data": {
      "image/png": "[encoded data removed]",
      "text/plain": [
       "<Figure size 1200x500 with 2 Axes>"
      ]
     },
     "metadata": {},
     "output_type": "display_data"
    }
   ],
   "source": [
    "epochs_range = range(num_epochs)\n",
    "\n",
    "plt.figure(figsize=(12, 5))\n",
    "\n",
    "plt.subplot(1, 2, 1)\n",
    "plt.plot(epochs_range, train_losses, label=\"Edzés\", marker=\"o\", markersize=6, linewidth=2, color='blue')\n",
    "plt.plot(epochs_range, val_losses, label=\"Validáció\", marker=\"s\", markersize=6, linewidth=2, color='orange')\n",
    "plt.xlabel(\"Epoch\", fontsize=12)\n",
    "plt.ylabel(\"Veszteség\", fontsize=12)\n",
    "plt.title(\"Veszteség alakulása\", fontsize=14)\n",
    "plt.legend(fontsize=10)\n",
    "plt.grid(True)\n",
    "\n",
    "plt.subplot(1, 2, 2)\n",
    "plt.plot(epochs_range, train_accuracies, label=\"Edzés\", marker=\"o\", markersize=6, linewidth=2, color='blue')\n",
    "plt.plot(epochs_range, val_accuracies, label=\"Validáció\", marker=\"o\", markersize=6, linewidth=2, color='orange')\n",
    "plt.xlabel(\"Epoch\", fontsize=12)\n",
    "plt.ylabel(\"Pontosság\", fontsize=12)\n",
    "plt.title(\"Pontosság alakulása\", fontsize=14)\n",
    "plt.legend(fontsize=10)\n",
    "plt.grid(True)\n",
    "\n",
    "plt.tight_layout()\n",
    "plt.show()"
   ]
  },
  {
   "cell_type": "markdown",
   "metadata": {},
   "source": [
    "Test"
   ]
  },
  {
   "cell_type": "code",
   "execution_count": 12,
   "metadata": {},
   "outputs": [
    {
     "name": "stdout",
     "output_type": "stream",
     "text": [
      "Összes test kép: 3223\n"
     ]
    }
   ],
   "source": [
    "test_data_dir = Path(\"../test\")\n",
    "test_subfolders = [\"close_eyes\", \"open_eyes\"]\n",
    "\n",
    "test_files = []\n",
    "for label in test_subfolders:\n",
    "    folder = test_data_dir / label\n",
    "    if not folder.exists():\n",
    "        print(f\"Mappa nem található: {folder}\")\n",
    "        continue\n",
    "    for file in folder.iterdir():\n",
    "        if file.suffix.lower() in ['.jpg', '.jpeg', '.png']:\n",
    "            test_files.append((str(file.resolve()), label))\n",
    "\n",
    "test_df = pd.DataFrame(test_files, columns=[\"filepath\", \"label\"])\n",
    "print(\"Összes test kép:\", len(test_df))"
   ]
  },
  {
   "cell_type": "code",
   "execution_count": 13,
   "metadata": {},
   "outputs": [],
   "source": [
    "test_dataset = EyesDataset(test_df, transform=transform_val)\n",
    "test_loader = DataLoader(test_dataset, batch_size=BATCH, shuffle=False, num_workers=0, pin_memory=True)"
   ]
  },
  {
   "cell_type": "code",
   "execution_count": 19,
   "metadata": {},
   "outputs": [
    {
     "name": "stdout",
     "output_type": "stream",
     "text": [
      "Precision: 0.9993\n",
      "Recall: 0.8129\n",
      "F1-score: 0.8965\n"
     ]
    }
   ],
   "source": [
    "model.eval()\n",
    "running_test_loss = 0.0\n",
    "test_preds, test_labels = [], []\n",
    "\n",
    "with torch.no_grad():\n",
    "    for imgs, labels in test_loader:\n",
    "        imgs = imgs.to(device)\n",
    "        labels = labels.to(device).float().view(-1, 1)\n",
    "        outputs = model(imgs)\n",
    "        loss = criterion(outputs, labels)\n",
    "        running_test_loss += loss.item()\n",
    "        preds = (torch.sigmoid(outputs) > 0.5).float()\n",
    "        test_preds.extend(preds.cpu().numpy().flatten().tolist())\n",
    "        test_labels.extend(labels.cpu().numpy().flatten().tolist())\n",
    "\n",
    "avg_test_loss = running_test_loss / len(test_loader)\n",
    "test_acc = accuracy_score(test_labels, test_preds)\n",
    "test_precision = precision_score(test_labels, test_preds, zero_division=0)\n",
    "test_recall = recall_score(test_labels, test_preds, zero_division=0)\n",
    "test_f1 = f1_score(test_labels, test_preds, zero_division=0)\n",
    "\n",
    "print(f\"Precision: {test_precision:.4f}\")\n",
    "print(f\"Recall: {test_recall:.4f}\")\n",
    "print(f\"F1-score: {test_f1:.4f}\")"
   ]
  },
  {
   "cell_type": "markdown",
   "metadata": {},
   "source": [
    "Mentés"
   ]
  },
  {
   "cell_type": "code",
   "execution_count": 15,
   "metadata": {},
   "outputs": [
    {
     "name": "stdout",
     "output_type": "stream",
     "text": [
      "modell mentve\n"
     ]
    }
   ],
   "source": [
    "torch.save(model.state_dict(), \"test3cnn.pth\")\n",
    "print(\"modell mentve\")"
   ]
  }
 ],
 "metadata": {
  "kernelspec": {
   "display_name": "drowsy2",
   "language": "python",
   "name": "python3"
  },
  "language_info": {
   "codemirror_mode": {
    "name": "ipython",
    "version": 3
   },
   "file_extension": ".py",
   "mimetype": "text/x-python",
   "name": "python",
   "nbconvert_exporter": "python",
   "pygments_lexer": "ipython3",
   "version": "3.10.16"
  }
 },
 "nbformat": 4,
 "nbformat_minor": 2
}
